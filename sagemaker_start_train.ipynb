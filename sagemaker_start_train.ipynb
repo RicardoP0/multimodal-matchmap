{
 "cells": [
  {
   "cell_type": "code",
   "execution_count": 7,
   "metadata": {},
   "outputs": [
    {
     "name": "stdout",
     "output_type": "stream",
     "text": [
      "Requirement already satisfied: wandb in /opt/conda/lib/python3.7/site-packages (0.10.11)\n",
      "Requirement already satisfied: sentry-sdk>=0.4.0 in /opt/conda/lib/python3.7/site-packages (from wandb) (0.19.4)\n",
      "Requirement already satisfied: six>=1.13.0 in /opt/conda/lib/python3.7/site-packages (from wandb) (1.14.0)\n",
      "Requirement already satisfied: psutil>=5.0.0 in /opt/conda/lib/python3.7/site-packages (from wandb) (5.6.7)\n",
      "Requirement already satisfied: subprocess32>=3.5.3 in /opt/conda/lib/python3.7/site-packages (from wandb) (3.5.4)\n",
      "Requirement already satisfied: watchdog>=0.8.3 in /opt/conda/lib/python3.7/site-packages (from wandb) (0.10.2)\n",
      "Requirement already satisfied: requests<3,>=2.0.0 in /opt/conda/lib/python3.7/site-packages (from wandb) (2.22.0)\n",
      "Requirement already satisfied: protobuf>=3.12.0 in /opt/conda/lib/python3.7/site-packages (from wandb) (3.14.0)\n",
      "Requirement already satisfied: PyYAML in /opt/conda/lib/python3.7/site-packages (from wandb) (5.3)\n",
      "Requirement already satisfied: shortuuid>=0.5.0 in /opt/conda/lib/python3.7/site-packages (from wandb) (1.0.1)\n",
      "Requirement already satisfied: promise<3,>=2.0 in /opt/conda/lib/python3.7/site-packages (from wandb) (2.3)\n",
      "Requirement already satisfied: docker-pycreds>=0.4.0 in /opt/conda/lib/python3.7/site-packages (from wandb) (0.4.0)\n",
      "Requirement already satisfied: Click>=7.0 in /opt/conda/lib/python3.7/site-packages (from wandb) (7.0)\n",
      "Requirement already satisfied: python-dateutil>=2.6.1 in /opt/conda/lib/python3.7/site-packages (from wandb) (2.8.1)\n",
      "Requirement already satisfied: GitPython>=1.0.0 in /opt/conda/lib/python3.7/site-packages (from wandb) (3.1.11)\n",
      "Requirement already satisfied: configparser>=3.8.1 in /opt/conda/lib/python3.7/site-packages (from wandb) (5.0.1)\n",
      "Requirement already satisfied: urllib3>=1.10.0 in /opt/conda/lib/python3.7/site-packages (from sentry-sdk>=0.4.0->wandb) (1.25.8)\n",
      "Requirement already satisfied: certifi in /opt/conda/lib/python3.7/site-packages (from sentry-sdk>=0.4.0->wandb) (2019.11.28)\n",
      "Requirement already satisfied: pathtools>=0.1.1 in /opt/conda/lib/python3.7/site-packages (from watchdog>=0.8.3->wandb) (0.1.2)\n",
      "Requirement already satisfied: idna<2.9,>=2.5 in /opt/conda/lib/python3.7/site-packages (from requests<3,>=2.0.0->wandb) (2.8)\n",
      "Requirement already satisfied: chardet<3.1.0,>=3.0.2 in /opt/conda/lib/python3.7/site-packages (from requests<3,>=2.0.0->wandb) (3.0.4)\n",
      "Requirement already satisfied: gitdb<5,>=4.0.1 in /opt/conda/lib/python3.7/site-packages (from GitPython>=1.0.0->wandb) (4.0.5)\n",
      "Requirement already satisfied: smmap<4,>=3.0.1 in /opt/conda/lib/python3.7/site-packages (from gitdb<5,>=4.0.1->GitPython>=1.0.0->wandb) (3.0.4)\n",
      "Collecting sagemaker\n",
      "  Downloading sagemaker-2.45.0.tar.gz (414 kB)\n",
      "\u001b[K     |████████████████████████████████| 414 kB 18.7 MB/s eta 0:00:01\n",
      "\u001b[?25hRequirement already satisfied, skipping upgrade: attrs in /opt/conda/lib/python3.7/site-packages (from sagemaker) (19.3.0)\n",
      "Requirement already satisfied, skipping upgrade: boto3>=1.16.32 in /opt/conda/lib/python3.7/site-packages (from sagemaker) (1.16.39)\n",
      "Requirement already satisfied, skipping upgrade: google-pasta in /opt/conda/lib/python3.7/site-packages (from sagemaker) (0.2.0)\n",
      "Requirement already satisfied, skipping upgrade: numpy>=1.9.0 in /opt/conda/lib/python3.7/site-packages (from sagemaker) (1.18.1)\n",
      "Requirement already satisfied, skipping upgrade: protobuf>=3.1 in /opt/conda/lib/python3.7/site-packages (from sagemaker) (3.14.0)\n",
      "Requirement already satisfied, skipping upgrade: protobuf3-to-dict>=0.1.5 in /opt/conda/lib/python3.7/site-packages (from sagemaker) (0.1.5)\n",
      "Requirement already satisfied, skipping upgrade: smdebug_rulesconfig==1.0.1 in /opt/conda/lib/python3.7/site-packages (from sagemaker) (1.0.1)\n",
      "Requirement already satisfied, skipping upgrade: importlib-metadata>=1.4.0 in /opt/conda/lib/python3.7/site-packages (from sagemaker) (1.5.0)\n",
      "Requirement already satisfied, skipping upgrade: packaging>=20.0 in /opt/conda/lib/python3.7/site-packages (from sagemaker) (20.1)\n",
      "Requirement already satisfied, skipping upgrade: pandas in /opt/conda/lib/python3.7/site-packages (from sagemaker) (1.0.1)\n",
      "Requirement already satisfied, skipping upgrade: pathos in /opt/conda/lib/python3.7/site-packages (from sagemaker) (0.2.7)\n",
      "Requirement already satisfied, skipping upgrade: botocore<1.20.0,>=1.19.39 in /opt/conda/lib/python3.7/site-packages (from boto3>=1.16.32->sagemaker) (1.19.39)\n",
      "Requirement already satisfied, skipping upgrade: jmespath<1.0.0,>=0.7.1 in /opt/conda/lib/python3.7/site-packages (from boto3>=1.16.32->sagemaker) (0.10.0)\n",
      "Requirement already satisfied, skipping upgrade: s3transfer<0.4.0,>=0.3.0 in /opt/conda/lib/python3.7/site-packages (from boto3>=1.16.32->sagemaker) (0.3.3)\n",
      "Requirement already satisfied, skipping upgrade: six in /opt/conda/lib/python3.7/site-packages (from google-pasta->sagemaker) (1.14.0)\n",
      "Requirement already satisfied, skipping upgrade: zipp>=0.5 in /opt/conda/lib/python3.7/site-packages (from importlib-metadata>=1.4.0->sagemaker) (2.2.0)\n",
      "Requirement already satisfied, skipping upgrade: pyparsing>=2.0.2 in /opt/conda/lib/python3.7/site-packages (from packaging>=20.0->sagemaker) (2.4.6)\n",
      "Requirement already satisfied, skipping upgrade: python-dateutil>=2.6.1 in /opt/conda/lib/python3.7/site-packages (from pandas->sagemaker) (2.8.1)\n",
      "Requirement already satisfied, skipping upgrade: pytz>=2017.2 in /opt/conda/lib/python3.7/site-packages (from pandas->sagemaker) (2019.3)\n",
      "Requirement already satisfied, skipping upgrade: ppft>=1.6.6.3 in /opt/conda/lib/python3.7/site-packages (from pathos->sagemaker) (1.6.6.3)\n",
      "Requirement already satisfied, skipping upgrade: multiprocess>=0.70.11 in /opt/conda/lib/python3.7/site-packages (from pathos->sagemaker) (0.70.11.1)\n",
      "Requirement already satisfied, skipping upgrade: dill>=0.3.3 in /opt/conda/lib/python3.7/site-packages (from pathos->sagemaker) (0.3.3)\n",
      "Requirement already satisfied, skipping upgrade: pox>=0.2.9 in /opt/conda/lib/python3.7/site-packages (from pathos->sagemaker) (0.2.9)\n",
      "Requirement already satisfied, skipping upgrade: urllib3<1.27,>=1.25.4; python_version != \"3.4\" in /opt/conda/lib/python3.7/site-packages (from botocore<1.20.0,>=1.19.39->boto3>=1.16.32->sagemaker) (1.25.8)\n",
      "Building wheels for collected packages: sagemaker\n",
      "  Building wheel for sagemaker (setup.py) ... \u001b[?25ldone\n",
      "\u001b[?25h  Created wheel for sagemaker: filename=sagemaker-2.45.0-py2.py3-none-any.whl size=582729 sha256=033087fa448d0784c29f1c850b3fe721c790cbdc5ddedad774564b32ebd59e64\n",
      "  Stored in directory: /root/.cache/pip/wheels/a0/f4/09/f46003f23abdc37b204d1bb68654108132a575d5df3a29b104\n",
      "Successfully built sagemaker\n",
      "Installing collected packages: sagemaker\n",
      "  Attempting uninstall: sagemaker\n",
      "    Found existing installation: sagemaker 2.42.0\n",
      "    Uninstalling sagemaker-2.42.0:\n",
      "      Successfully uninstalled sagemaker-2.42.0\n",
      "Successfully installed sagemaker-2.45.0\n",
      "Collecting sagemaker-experiments\n",
      "  Downloading sagemaker_experiments-0.1.32-py3-none-any.whl (42 kB)\n",
      "\u001b[K     |████████████████████████████████| 42 kB 118 kB/s  eta 0:00:01\n",
      "\u001b[?25hRequirement already satisfied, skipping upgrade: boto3>=1.16.27 in /opt/conda/lib/python3.7/site-packages (from sagemaker-experiments) (1.16.39)\n",
      "Requirement already satisfied, skipping upgrade: jmespath<1.0.0,>=0.7.1 in /opt/conda/lib/python3.7/site-packages (from boto3>=1.16.27->sagemaker-experiments) (0.10.0)\n",
      "Requirement already satisfied, skipping upgrade: s3transfer<0.4.0,>=0.3.0 in /opt/conda/lib/python3.7/site-packages (from boto3>=1.16.27->sagemaker-experiments) (0.3.3)\n",
      "Requirement already satisfied, skipping upgrade: botocore<1.20.0,>=1.19.39 in /opt/conda/lib/python3.7/site-packages (from boto3>=1.16.27->sagemaker-experiments) (1.19.39)\n",
      "Requirement already satisfied, skipping upgrade: python-dateutil<3.0.0,>=2.1 in /opt/conda/lib/python3.7/site-packages (from botocore<1.20.0,>=1.19.39->boto3>=1.16.27->sagemaker-experiments) (2.8.1)\n",
      "Requirement already satisfied, skipping upgrade: urllib3<1.27,>=1.25.4; python_version != \"3.4\" in /opt/conda/lib/python3.7/site-packages (from botocore<1.20.0,>=1.19.39->boto3>=1.16.27->sagemaker-experiments) (1.25.8)\n",
      "Requirement already satisfied, skipping upgrade: six>=1.5 in /opt/conda/lib/python3.7/site-packages (from python-dateutil<3.0.0,>=2.1->botocore<1.20.0,>=1.19.39->boto3>=1.16.27->sagemaker-experiments) (1.14.0)\n",
      "Installing collected packages: sagemaker-experiments\n",
      "  Attempting uninstall: sagemaker-experiments\n",
      "    Found existing installation: sagemaker-experiments 0.1.31\n",
      "    Uninstalling sagemaker-experiments-0.1.31:\n",
      "      Successfully uninstalled sagemaker-experiments-0.1.31\n",
      "Successfully installed sagemaker-experiments-0.1.32\n"
     ]
    }
   ],
   "source": [
    "!pip install wandb\n",
    "!pip install sagemaker -U\n",
    "!pip install sagemaker-experiments -U"
   ]
  },
  {
   "cell_type": "code",
   "execution_count": 15,
   "metadata": {},
   "outputs": [
    {
     "data": {
      "text/plain": [
       "'2.42.0'"
      ]
     },
     "execution_count": 15,
     "metadata": {},
     "output_type": "execute_result"
    }
   ],
   "source": [
    "import sagemaker\n",
    "\n",
    "sagemaker.__version__\n",
    "#wandb.sagemaker_auth(path=\"code\")"
   ]
  },
  {
   "cell_type": "code",
   "execution_count": 16,
   "metadata": {},
   "outputs": [],
   "source": [
    "from smexperiments.experiment import Experiment\n",
    "from smexperiments.trial import Trial\n",
    "from smexperiments.trial_component import TrialComponent\n",
    "from smexperiments.tracker import Tracker\n",
    "import json\n",
    "import boto3\n",
    "import sagemaker\n",
    "from sagemaker.pytorch import PyTorch\n",
    "import wandb\n",
    "import time\n",
    "sess = boto3.Session(region_name='us-east-1')\n",
    "sm = sess.client('sagemaker')"
   ]
  },
  {
   "cell_type": "code",
   "execution_count": 12,
   "metadata": {},
   "outputs": [],
   "source": [
    "import os\n",
    "sagemaker.get_execution_role() \n",
    "role =sagemaker.get_execution_role() "
   ]
  },
  {
   "cell_type": "markdown",
   "metadata": {},
   "source": [
    "Create experiment"
   ]
  },
  {
   "cell_type": "code",
   "execution_count": 17,
   "metadata": {},
   "outputs": [
    {
     "name": "stdout",
     "output_type": "stream",
     "text": [
      "Experiment(sagemaker_boto_client=<botocore.client.SageMaker object at 0x7fcc3b528190>,experiment_name='IEMOCAP-AUDIO-4classes-1623118261',description='Classification of IEMOCAP dataset using 4 classes and audio',tags=None,experiment_arn='arn:aws:sagemaker:us-east-1:278741951345:experiment/iemocap-audio-4classes-1623118261',response_metadata={'RequestId': '194d2d0d-9bb9-4cef-a737-0890b0e84b54', 'HTTPStatusCode': 200, 'HTTPHeaders': {'x-amzn-requestid': '194d2d0d-9bb9-4cef-a737-0890b0e84b54', 'content-type': 'application/x-amz-json-1.1', 'content-length': '105', 'date': 'Tue, 08 Jun 2021 02:11:01 GMT'}, 'RetryAttempts': 0})\n"
     ]
    }
   ],
   "source": [
    "trainer_experiment = Experiment.create(\n",
    "    experiment_name=f\"IEMOCAP-AUDIO-4classes-{int(time.time())}\", \n",
    "    description=\"Classification of IEMOCAP dataset using 4 classes and audio\", \n",
    "    sagemaker_boto_client=sm)\n",
    "print(trainer_experiment)\n"
   ]
  },
  {
   "cell_type": "markdown",
   "metadata": {},
   "source": [
    "## Training"
   ]
  },
  {
   "cell_type": "code",
   "execution_count": 19,
   "metadata": {},
   "outputs": [],
   "source": [
    "sr = 16000\n",
    "preemph_coef = 0.97\n",
    "sample_rate = sr\n",
    "window_size = 0.025\n",
    "window_stride = 0.01\n",
    "num_mel_bins = 40\n",
    "\n",
    "n_fft = 512#int(sample_rate * window_size\n",
    "win_length = int(sample_rate * window_size)#None#\n",
    "hop_length = int(sample_rate * window_stride)#256#\n",
    "\n",
    "\n",
    "# The bucket containig our input data\n",
    "data_root = 's3://XXXX/datasets/IEMOCAP/TRAINING_VIDEOS/'\n",
    "audio_folder = 's3://XXXX/datasets/IEMOCAP/LOGMEL_DELTAS'\n",
    "video_folder = 's3://XXXX/datasets/IEMOCAP/TRAINING_VIDEOS'\n",
    "weights_root = 's3://XXXX/datasets/IEMOCAP/MODELS/Resnet3D'\n",
    "checkpoint_s3 = 's3://XXXX/training_checkpoints/'\n",
    "\n",
    "with Tracker.create(display_name=\"Preprocessing\", sagemaker_boto_client=sm) as tracker:\n",
    "    tracker.log_parameters({\n",
    "        \"num_frames\": 4,\n",
    "        \"frame_length\": 1.0,\n",
    "        \"output_length\": 100,\n",
    "        \"win_length\":win_length,\n",
    "        \"hop_length\":hop_length,\n",
    "        \"n_fft\":n_fft,\n",
    "        \"num_mel_bins\":num_mel_bins        \n",
    "    })\n",
    "    # we can log the s3 uri to the dataset we just uploaded\n",
    "    tracker.log_input(name=\"iemocap-audio-frames\", media_type=\"s3/uri\", value=data_root)\n"
   ]
  },
  {
   "cell_type": "code",
   "execution_count": 220,
   "metadata": {},
   "outputs": [],
   "source": [
    "train_dict = {\n",
    "    'max_nb_epochs': 1000,\n",
    "    'batch_size': 32,\n",
    "    'accum_grad_batches':1,\n",
    "    'precision': 16,\n",
    "    'fixed-data': 1,\n",
    "    'sweep-name': 'MultimodalMatchmap-IEMOCAP',\n",
    "    'model-name': 'MultimodalMatchmap',\n",
    "    'early-stop-num': 5,\n",
    "    'dataset': 'iemocap',\n",
    "    'fold': 1,\n",
    "    'model_type':'matchmap',\n",
    "    'model_load_from_checkpoint':0,\n",
    "    'use_mixed_iemocap':1,\n",
    "    'gradient_clip_val':5.0\n",
    "  }\n",
    "\n",
    "model_dict = {\n",
    "    'learning_rate' :0.0001077,\n",
    "    'weight_decay' :0.001409,\n",
    "}\n",
    "\n",
    "preprocessing_trial_component = tracker.trial_component\n",
    "# create trial\n",
    "trial_name = f\"{train_dict['model-name']}-training-job-{int(time.time())}\"\n",
    "exp_trial = Trial.create(\n",
    "    trial_name=trial_name, \n",
    "    experiment_name=trainer_experiment.experiment_name,\n",
    "    sagemaker_boto_client=sm,\n",
    ")\n",
    "\n",
    "# associate the proprocessing trial component with the current trial\n",
    "exp_trial.add_trial_component(preprocessing_trial_component)\n",
    "estimator = PyTorch(\n",
    "    # name of the runnable script containing __main__ function (entrypoint)\n",
    "    entry_point='train.py',\n",
    "    # path of the folder containing training code. It could also contain a\n",
    "    # requirements.txt file with all the dependencies that needs\n",
    "    # to be installed before running\n",
    "    source_dir='.',\n",
    "    role=role,\n",
    "    sagemaker_session=sagemaker.Session(sagemaker_client=sm),\n",
    "    boto_session=sess,\n",
    "    framework_version='1.8',\n",
    "    instance_count=1,\n",
    "    instance_type='ml.p3.2xlarge',#'ml.p3.8xlarge',#'ml.g4dn.2xlarge', #\n",
    "    py_version='py3',\n",
    "    # these hyperparameters are passed to the main script as arguments and \n",
    "    # can be overridden when fine tuning the algorithm\n",
    "    hyperparameters={**train_dict,**model_dict},\n",
    "#     use_spot_instances = True,\n",
    "#     max_wait           = 45*60*60,\n",
    "    max_run           = 6*60*60,\n",
    "    checkpoint_s3_uri = checkpoint_s3 + trial_name,\n",
    "    volume_size=50,\n",
    "    enable_sagemaker_metrics=True\n",
    ")"
   ]
  },
  {
   "cell_type": "code",
   "execution_count": 221,
   "metadata": {},
   "outputs": [],
   "source": [
    "from sagemaker.tuner import IntegerParameter, CategoricalParameter, ContinuousParameter, HyperparameterTuner\n",
    "\n",
    "hyperparameter_ranges = {\n",
    "                         'fold': IntegerParameter(1,10),\n",
    "                         }\n"
   ]
  },
  {
   "cell_type": "code",
   "execution_count": 222,
   "metadata": {},
   "outputs": [],
   "source": [
    "objective_metric_name = 'val:loss'\n",
    "objective_type = 'Minimize'\n",
    "metric_definitions = [\n",
    "        {'Name':'train:loss', 'Regex':'train_loss=(.*?),'},\n",
    "        {'Name':'train:accuracy', 'Regex':'train_acc=(.*?),'},\n",
    "        {'Name':'val:loss', 'Regex':'val_loss=(.*?),'},\n",
    "        {'Name':'val:f1', 'Regex':'val_f1=(.*?),'},\n",
    "        {'Name':'val:accuracy', 'Regex':'val_acc=(.*?)$'}\n",
    "    ]\n"
   ]
  },
  {
   "cell_type": "code",
   "execution_count": 223,
   "metadata": {},
   "outputs": [],
   "source": [
    "job_name = train_dict['model-name']+\"hyperparam-training-job-\"+\"-{}\".format(int(time.time()))\n",
    "\n",
    "tuner = HyperparameterTuner(estimator,\n",
    "                            objective_metric_name = objective_metric_name,\n",
    "                            hyperparameter_ranges  = hyperparameter_ranges,\n",
    "                            metric_definitions  = metric_definitions,\n",
    "                            max_jobs=10,\n",
    "                            max_parallel_jobs=10,\n",
    "                            objective_type=objective_type,\n",
    "                           base_tuning_job_name = job_name,\n",
    "                           early_stopping_type = 'Off')\n",
    "\n",
    "hyperparameter_ranges\n",
    "\n",
    "video_folder = 's3://XXXX/datasets/IEMOCAP/TRAINING_VIDEOS_2'\n",
    "audio_folder = 's3://XXXX/datasets/IEMOCAP/LOGMEL_DELTAS'\n",
    "audio_pretrained_folder = 's3://XXXX/datasets/PRETRAINED_MODELS/IEMOCAP/Audio/',\n",
    "video_pretrained_folder = 's3://XXXX/datasets/PRETRAINED_MODELS/IEMOCAP/Video/',"
   ]
  },
  {
   "cell_type": "code",
   "execution_count": 224,
   "metadata": {},
   "outputs": [
    {
     "name": "stderr",
     "output_type": "stream",
     "text": [
      "INFO:sagemaker.image_uris:Defaulting to the only supported framework/algorithm version: latest.\n",
      "INFO:sagemaker.image_uris:Ignoring unnecessary instance type: None.\n",
      "INFO:sagemaker:Creating hyperparameter tuning job with name: MultimodalMatchmaphy-210711-2035\n"
     ]
    },
    {
     "name": "stdout",
     "output_type": "stream",
     "text": [
      "......................................................................................................................................................................................................................................................................................................................................................................................................................................................................................................................................................................................................................................................................................................................................................................................................................................................................................................................................................................................................................................................................!\n"
     ]
    }
   ],
   "source": [
    "tuner.fit( \n",
    "    inputs = {\n",
    "        'audio_folder' : audio_folder,\n",
    "        'video_folder':video_folder,\n",
    "        'audio_pretrained_folder': audio_pretrained_folder,\n",
    "        'video_pretrained_folder': video_pretrained_folder,\n",
    "    },\n",
    "\n",
    "    experiment_config={\n",
    "        \"TrialName\": exp_trial.trial_name,\n",
    "        \"TrialComponentDisplayName\": \"Training\",\n",
    "    })"
   ]
  }
 ],
 "metadata": {
  "instance_type": "ml.t3.medium",
  "kernelspec": {
   "display_name": "Python 3 (Data Science)",
   "language": "python",
   "name": "python3__SAGEMAKER_INTERNAL__arn:aws:sagemaker:us-east-1:081325390199:image/datascience-1.0"
  },
  "language_info": {
   "codemirror_mode": {
    "name": "ipython",
    "version": 3
   },
   "file_extension": ".py",
   "mimetype": "text/x-python",
   "name": "python",
   "nbconvert_exporter": "python",
   "pygments_lexer": "ipython3",
   "version": "3.7.6"
  }
 },
 "nbformat": 4,
 "nbformat_minor": 4
}
